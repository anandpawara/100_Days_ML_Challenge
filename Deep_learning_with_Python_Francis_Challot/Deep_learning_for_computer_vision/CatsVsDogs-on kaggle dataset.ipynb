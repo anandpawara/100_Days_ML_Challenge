{
 "cells": [
  {
   "cell_type": "code",
   "execution_count": 22,
   "metadata": {},
   "outputs": [],
   "source": [
    "import os ,shutil"
   ]
  },
  {
   "cell_type": "code",
   "execution_count": 5,
   "metadata": {},
   "outputs": [],
   "source": [
    "#original_cats_dataset_dir = '/home/itachi/Desktop/data/catsanddogs/Cat/'"
   ]
  },
  {
   "cell_type": "code",
   "execution_count": 6,
   "metadata": {},
   "outputs": [],
   "source": [
    "#base_dir = '/home/itachi/Desktop/data/cats_and_dogs_small'"
   ]
  },
  {
   "cell_type": "code",
   "execution_count": 7,
   "metadata": {},
   "outputs": [],
   "source": [
    "#os.mkdir(base_dir)"
   ]
  },
  {
   "cell_type": "code",
   "execution_count": 8,
   "metadata": {},
   "outputs": [],
   "source": [
    "#train_dir = os.path.join(base_dir,'train')\n",
    "#os.mkdir(train_dir)"
   ]
  },
  {
   "cell_type": "code",
   "execution_count": 9,
   "metadata": {},
   "outputs": [],
   "source": [
    "#validation_dir = os.path.join(base_dir,'validation')\n",
    "#os.mkdir(validation_dir)"
   ]
  },
  {
   "cell_type": "code",
   "execution_count": 10,
   "metadata": {},
   "outputs": [],
   "source": [
    "#test_dir = os.path.join(base_dir,'test')\n",
    "#os.mkdir(test_dir)"
   ]
  },
  {
   "cell_type": "code",
   "execution_count": 11,
   "metadata": {},
   "outputs": [],
   "source": [
    "#train_cats_dir = os.path.join(train_dir,'cats')\n",
    "#os.mkdir(train_cats_dir)"
   ]
  },
  {
   "cell_type": "code",
   "execution_count": 12,
   "metadata": {},
   "outputs": [],
   "source": [
    "#train_dogs_dir = os.path.join(train_dir,'dogs')\n",
    "#os.mkdir(train_dogs_dir)"
   ]
  },
  {
   "cell_type": "code",
   "execution_count": 13,
   "metadata": {},
   "outputs": [],
   "source": [
    "#validation_cats_dir = os.path.join(validation_dir,'cats')\n",
    "#os.mkdir(validation_cats_dir)"
   ]
  },
  {
   "cell_type": "code",
   "execution_count": 14,
   "metadata": {},
   "outputs": [],
   "source": [
    "#validation_dogs_dir = os.path.join(validation_dir,'dogs')\n",
    "#os.mkdir(validation_dogs_dir)"
   ]
  },
  {
   "cell_type": "code",
   "execution_count": 15,
   "metadata": {},
   "outputs": [],
   "source": [
    "#test_cats_dir = os.path.join(test_dir,'cats')\n",
    "#os.mkdir(test_cats_dir)"
   ]
  },
  {
   "cell_type": "code",
   "execution_count": 16,
   "metadata": {},
   "outputs": [],
   "source": [
    "#test_dogs_dir = os.path.join(test_dir,'dogs')\n",
    "#os.mkdir(test_dogs_dir)"
   ]
  },
  {
   "cell_type": "code",
   "execution_count": 17,
   "metadata": {},
   "outputs": [],
   "source": [
    "#Copies first 1,000 cats images to train_cats_dir\n",
    "#fnames = ['{}.jpg'.format(i) for i in range(1000)]\n",
    "#for fname in fnames:\n",
    "#    src = os.path.join(original_cats_dataset_dir,fname)\n",
    "#   dst = os.path.join(train_cats_dir,fname)\n",
    "#    shutil.copyfile(src,dst)\n"
   ]
  },
  {
   "cell_type": "code",
   "execution_count": 18,
   "metadata": {},
   "outputs": [],
   "source": [
    "#Copies next 500 cats images from 1000 to 1500 to validation_cats_dir\n",
    "#fnames = ['{}.jpg'.format(i) for i in range(1000,1500)]\n",
    "#for fname in fnames:\n",
    "#    src = os.path.join(original_cats_dataset_dir,fname)\n",
    "#    dst = os.path.join(validation_cats_dir,fname)\n",
    "#    shutil.copyfile(src,dst)"
   ]
  },
  {
   "cell_type": "code",
   "execution_count": 19,
   "metadata": {},
   "outputs": [],
   "source": [
    "#Copies next 500 cat images from 1500 to 2000 in test_cats_dir\n",
    "#fnames = ['{}.jpg'.format(i) for i in range(1500,2000)]\n",
    "#for fname in fnames:\n",
    "#    src = os.path.join(original_cats_dataset_dir,fname)\n",
    "#    dst = os.path.join(test_cats_dir,fname)\n",
    "#    shutil.copyfile(src,dst)"
   ]
  },
  {
   "cell_type": "code",
   "execution_count": 59,
   "metadata": {},
   "outputs": [],
   "source": [
    "#original_dogs_dataset_dir = '/home/itachi/Desktop/data/catsanddogs/Dog/'"
   ]
  },
  {
   "cell_type": "code",
   "execution_count": 60,
   "metadata": {},
   "outputs": [],
   "source": [
    "#Copies first 1,000 dogs images to train_dogs_dir\n",
    "#fnames = ['{}.jpg'.format(i) for i in range(1000)]\n",
    "#for fname in fnames:\n",
    "#    src = os.path.join(original_dogs_dataset_dir,fname)\n",
    "#    dst = os.path.join(train_dogs_dir,fname)\n",
    "#    shutil.copyfile(src,dst)"
   ]
  },
  {
   "cell_type": "code",
   "execution_count": 61,
   "metadata": {},
   "outputs": [],
   "source": [
    "#Copies dogs images from 1,000 to 1500 to validation_dogs_dir\n",
    "#fnames = ['{}.jpg'.format(i) for i in range(1000,1500)]\n",
    "#for fname in fnames:\n",
    "#    src = os.path.join(original_dogs_dataset_dir,fname)\n",
    "#    dst = os.path.join(validation_dogs_dir,fname)\n",
    "#    shutil.copyfile(src,dst)"
   ]
  },
  {
   "cell_type": "code",
   "execution_count": 64,
   "metadata": {},
   "outputs": [],
   "source": [
    "#Copies dogs images from 1500 to 2000 to test_dogs_dir\n",
    "#fnames = ['{}.jpg'.format(i) for i in range(1500, 2000)]\n",
    "#for fname in fnames:\n",
    "#    src = os.path.join(original_dogs_dataset_dir,fname)\n",
    "#    dst = os.path.join(test_dogs_dir,fname)\n",
    "#    shutil.copyfile(src,dst)"
   ]
  },
  {
   "cell_type": "code",
   "execution_count": 35,
   "metadata": {},
   "outputs": [],
   "source": [
    "base_dir = '/home/paperspace/data/dogscats/'\n",
    "#train_cats_dir = '/home/paperspace/data/dogscats/train/cats/'\n",
    "#train_dogs_dir = ''\n",
    "train_cats_dir = os.path.join(base_dir , 'train/cats')\n",
    "validation_cats_dir = os.path.join(base_dir , 'valid/cats')\n",
    "\n",
    "train_dogs_dir = os.path.join(base_dir , 'train/dogs')\n",
    "validation_dogs_dir = os.path.join(base_dir,'valid/dogs')"
   ]
  },
  {
   "cell_type": "code",
   "execution_count": 36,
   "metadata": {},
   "outputs": [
    {
     "name": "stdout",
     "output_type": "stream",
     "text": [
      "Total training cat images : 11500\n"
     ]
    }
   ],
   "source": [
    "print(\"Total training cat images :\",len(os.listdir(train_cats_dir)))"
   ]
  },
  {
   "cell_type": "code",
   "execution_count": 37,
   "metadata": {},
   "outputs": [
    {
     "name": "stdout",
     "output_type": "stream",
     "text": [
      "Total validation cat images : 1000\n"
     ]
    }
   ],
   "source": [
    "print(\"Total validation cat images :\",len(os.listdir(validation_cats_dir)))"
   ]
  },
  {
   "cell_type": "code",
   "execution_count": 38,
   "metadata": {},
   "outputs": [
    {
     "ename": "NameError",
     "evalue": "name 'test_cats_dir' is not defined",
     "output_type": "error",
     "traceback": [
      "\u001b[0;31m---------------------------------------------------------------------------\u001b[0m",
      "\u001b[0;31mNameError\u001b[0m                                 Traceback (most recent call last)",
      "\u001b[0;32m<ipython-input-38-90df98faa553>\u001b[0m in \u001b[0;36m<module>\u001b[0;34m()\u001b[0m\n\u001b[0;32m----> 1\u001b[0;31m \u001b[0mprint\u001b[0m\u001b[0;34m(\u001b[0m\u001b[0;34m\"Total test cat images :\"\u001b[0m\u001b[0;34m,\u001b[0m\u001b[0mlen\u001b[0m\u001b[0;34m(\u001b[0m\u001b[0mos\u001b[0m\u001b[0;34m.\u001b[0m\u001b[0mlistdir\u001b[0m\u001b[0;34m(\u001b[0m\u001b[0mtest_cats_dir\u001b[0m\u001b[0;34m)\u001b[0m\u001b[0;34m)\u001b[0m\u001b[0;34m)\u001b[0m\u001b[0;34m\u001b[0m\u001b[0m\n\u001b[0m",
      "\u001b[0;31mNameError\u001b[0m: name 'test_cats_dir' is not defined"
     ]
    }
   ],
   "source": [
    "#print(\"Total test cat images :\",len(os.listdir(test_cats_dir)))"
   ]
  },
  {
   "cell_type": "code",
   "execution_count": 39,
   "metadata": {},
   "outputs": [
    {
     "name": "stdout",
     "output_type": "stream",
     "text": [
      "Total training dogs images : 11500\n"
     ]
    }
   ],
   "source": [
    "print(\"Total training dogs images :\",len(os.listdir(train_dogs_dir)))"
   ]
  },
  {
   "cell_type": "code",
   "execution_count": 40,
   "metadata": {},
   "outputs": [
    {
     "name": "stdout",
     "output_type": "stream",
     "text": [
      "Total validation dogs images : 1000\n"
     ]
    }
   ],
   "source": [
    "print(\"Total validation dogs images :\",len(os.listdir(validation_dogs_dir)))"
   ]
  },
  {
   "cell_type": "code",
   "execution_count": 41,
   "metadata": {},
   "outputs": [],
   "source": [
    "#print(\"Total test dogs images :\",len(os.listdir(test_dogs_dir)))"
   ]
  },
  {
   "cell_type": "code",
   "execution_count": 42,
   "metadata": {},
   "outputs": [
    {
     "name": "stderr",
     "output_type": "stream",
     "text": [
      "/home/paperspace/anaconda3/envs/py35/lib/python3.5/site-packages/h5py/__init__.py:36: FutureWarning: Conversion of the second argument of issubdtype from `float` to `np.floating` is deprecated. In future, it will be treated as `np.float64 == np.dtype(float).type`.\n",
      "  from ._conv import register_converters as _register_converters\n",
      "Using TensorFlow backend.\n"
     ]
    }
   ],
   "source": [
    "from keras.layers import Conv2D,Dense\n",
    "from keras.models import Sequential\n",
    "from keras.layers import Flatten,MaxPooling2D"
   ]
  },
  {
   "cell_type": "code",
   "execution_count": 43,
   "metadata": {},
   "outputs": [],
   "source": [
    "model = Sequential()\n",
    "model.add(Conv2D(32,(3,3),activation = 'relu',input_shape = (150,150,3)))\n",
    "model.add(MaxPooling2D((2,2)))\n",
    "model.add(Conv2D(64,(3,3),activation = 'relu'))\n",
    "model.add(MaxPooling2D((2,2)))\n",
    "model.add(Conv2D(128,(3,3),activation='relu'))\n",
    "model.add(MaxPooling2D(2,2))\n",
    "model.add(Conv2D(128,(3,3),activation='relu'))\n",
    "model.add(MaxPooling2D((2,2)))\n",
    "model.add(Flatten())\n",
    "model.add(Dense(512,activation = 'relu'))\n",
    "model.add(Dense(1,activation = 'sigmoid'))"
   ]
  },
  {
   "cell_type": "code",
   "execution_count": 44,
   "metadata": {},
   "outputs": [
    {
     "name": "stdout",
     "output_type": "stream",
     "text": [
      "_________________________________________________________________\n",
      "Layer (type)                 Output Shape              Param #   \n",
      "=================================================================\n",
      "conv2d_1 (Conv2D)            (None, 148, 148, 32)      896       \n",
      "_________________________________________________________________\n",
      "max_pooling2d_1 (MaxPooling2 (None, 74, 74, 32)        0         \n",
      "_________________________________________________________________\n",
      "conv2d_2 (Conv2D)            (None, 72, 72, 64)        18496     \n",
      "_________________________________________________________________\n",
      "max_pooling2d_2 (MaxPooling2 (None, 36, 36, 64)        0         \n",
      "_________________________________________________________________\n",
      "conv2d_3 (Conv2D)            (None, 34, 34, 128)       73856     \n",
      "_________________________________________________________________\n",
      "max_pooling2d_3 (MaxPooling2 (None, 17, 17, 128)       0         \n",
      "_________________________________________________________________\n",
      "conv2d_4 (Conv2D)            (None, 15, 15, 128)       147584    \n",
      "_________________________________________________________________\n",
      "max_pooling2d_4 (MaxPooling2 (None, 7, 7, 128)         0         \n",
      "_________________________________________________________________\n",
      "flatten_1 (Flatten)          (None, 6272)              0         \n",
      "_________________________________________________________________\n",
      "dense_1 (Dense)              (None, 512)               3211776   \n",
      "_________________________________________________________________\n",
      "dense_2 (Dense)              (None, 1)                 513       \n",
      "=================================================================\n",
      "Total params: 3,453,121\n",
      "Trainable params: 3,453,121\n",
      "Non-trainable params: 0\n",
      "_________________________________________________________________\n"
     ]
    }
   ],
   "source": [
    "model.summary()"
   ]
  },
  {
   "cell_type": "code",
   "execution_count": 45,
   "metadata": {},
   "outputs": [],
   "source": [
    "from keras import optimizers"
   ]
  },
  {
   "cell_type": "code",
   "execution_count": 46,
   "metadata": {},
   "outputs": [],
   "source": [
    "model.compile(optimizer = 'rmsprop',\n",
    "             loss = 'binary_crossentropy',\n",
    "             metrics = ['accuracy'])"
   ]
  },
  {
   "cell_type": "code",
   "execution_count": 47,
   "metadata": {},
   "outputs": [],
   "source": [
    "from keras.preprocessing.image import ImageDataGenerator\n"
   ]
  },
  {
   "cell_type": "code",
   "execution_count": 48,
   "metadata": {},
   "outputs": [],
   "source": [
    "train_datagen = ImageDataGenerator(rescale = 1. / 255)\n",
    "test_datagen = ImageDataGenerator(rescale = 1. /255)"
   ]
  },
  {
   "cell_type": "code",
   "execution_count": 52,
   "metadata": {},
   "outputs": [],
   "source": [
    "train_dir = os.path.join(base_dir,'train')\n",
    "validation_dir = os.path.join(base_dir,'valid')"
   ]
  },
  {
   "cell_type": "code",
   "execution_count": 53,
   "metadata": {},
   "outputs": [
    {
     "name": "stdout",
     "output_type": "stream",
     "text": [
      "Found 23000 images belonging to 2 classes.\n"
     ]
    }
   ],
   "source": [
    "train_generator = train_datagen.flow_from_directory(train_dir,\n",
    "                                                   target_size = (150,150),\n",
    "                                                   batch_size = 20,\n",
    "                                                   class_mode = 'binary')"
   ]
  },
  {
   "cell_type": "code",
   "execution_count": 54,
   "metadata": {},
   "outputs": [
    {
     "name": "stdout",
     "output_type": "stream",
     "text": [
      "Found 2000 images belonging to 2 classes.\n"
     ]
    }
   ],
   "source": [
    "validation_generator = test_datagen.flow_from_directory(validation_dir,\n",
    "                                                       target_size = (150,150),\n",
    "                                                       batch_size = 20,\n",
    "                                                       class_mode = 'binary')"
   ]
  },
  {
   "cell_type": "code",
   "execution_count": 55,
   "metadata": {},
   "outputs": [
    {
     "name": "stdout",
     "output_type": "stream",
     "text": [
      "data batch shape: (20, 150, 150, 3)\n",
      "labels batch shape: (20,)\n"
     ]
    }
   ],
   "source": [
    "for data_batch,labels_batch in train_generator:\n",
    "    print('data batch shape:',data_batch.shape)\n",
    "    print('labels batch shape:',labels_batch.shape)\n",
    "    break"
   ]
  },
  {
   "cell_type": "code",
   "execution_count": 56,
   "metadata": {},
   "outputs": [
    {
     "name": "stdout",
     "output_type": "stream",
     "text": [
      "Epoch 1/30\n",
      "100/100 [==============================] - 15s 151ms/step - loss: 0.7342 - acc: 0.5310 - val_loss: 0.6899 - val_acc: 0.5110\n",
      "Epoch 2/30\n",
      "100/100 [==============================] - 9s 91ms/step - loss: 0.6758 - acc: 0.5910 - val_loss: 0.6543 - val_acc: 0.6040\n",
      "Epoch 3/30\n",
      "100/100 [==============================] - 9s 88ms/step - loss: 0.6331 - acc: 0.6485 - val_loss: 0.6239 - val_acc: 0.6660\n",
      "Epoch 4/30\n",
      "100/100 [==============================] - 9s 88ms/step - loss: 0.5970 - acc: 0.6795 - val_loss: 0.5619 - val_acc: 0.7110\n",
      "Epoch 5/30\n",
      "100/100 [==============================] - 9s 86ms/step - loss: 0.5967 - acc: 0.6860 - val_loss: 0.5661 - val_acc: 0.7030\n",
      "Epoch 6/30\n",
      "100/100 [==============================] - 8s 83ms/step - loss: 0.5663 - acc: 0.7115 - val_loss: 0.5258 - val_acc: 0.7370\n",
      "Epoch 7/30\n",
      "100/100 [==============================] - 8s 81ms/step - loss: 0.5630 - acc: 0.7215 - val_loss: 0.5365 - val_acc: 0.7340\n",
      "Epoch 8/30\n",
      "100/100 [==============================] - 8s 84ms/step - loss: 0.5510 - acc: 0.7195 - val_loss: 0.5656 - val_acc: 0.7130\n",
      "Epoch 9/30\n",
      "100/100 [==============================] - 8s 82ms/step - loss: 0.5257 - acc: 0.7340 - val_loss: 0.4745 - val_acc: 0.7710\n",
      "Epoch 10/30\n",
      "100/100 [==============================] - 8s 81ms/step - loss: 0.5072 - acc: 0.7555 - val_loss: 0.4804 - val_acc: 0.7790\n",
      "Epoch 11/30\n",
      "100/100 [==============================] - 8s 80ms/step - loss: 0.4977 - acc: 0.7730 - val_loss: 0.5010 - val_acc: 0.7700\n",
      "Epoch 12/30\n",
      "100/100 [==============================] - 7s 72ms/step - loss: 0.5058 - acc: 0.7610 - val_loss: 0.5372 - val_acc: 0.7220\n",
      "Epoch 13/30\n",
      "100/100 [==============================] - 6s 65ms/step - loss: 0.4592 - acc: 0.7850 - val_loss: 0.4350 - val_acc: 0.8070\n",
      "Epoch 14/30\n",
      "100/100 [==============================] - 6s 65ms/step - loss: 0.4528 - acc: 0.8060 - val_loss: 0.4142 - val_acc: 0.8120\n",
      "Epoch 15/30\n",
      "100/100 [==============================] - 6s 65ms/step - loss: 0.4520 - acc: 0.7875 - val_loss: 0.4549 - val_acc: 0.7930\n",
      "Epoch 16/30\n",
      "100/100 [==============================] - 7s 66ms/step - loss: 0.4655 - acc: 0.7945 - val_loss: 0.4263 - val_acc: 0.8050\n",
      "Epoch 17/30\n",
      "100/100 [==============================] - 7s 66ms/step - loss: 0.4532 - acc: 0.7965 - val_loss: 0.4233 - val_acc: 0.8100\n",
      "Epoch 18/30\n",
      "100/100 [==============================] - 6s 65ms/step - loss: 0.4522 - acc: 0.7985 - val_loss: 0.5770 - val_acc: 0.7460\n",
      "Epoch 19/30\n",
      "100/100 [==============================] - 6s 65ms/step - loss: 0.4466 - acc: 0.7955 - val_loss: 0.4718 - val_acc: 0.7970\n",
      "Epoch 20/30\n",
      "100/100 [==============================] - 6s 65ms/step - loss: 0.4108 - acc: 0.8245 - val_loss: 0.3991 - val_acc: 0.8250\n",
      "Epoch 21/30\n",
      "100/100 [==============================] - 7s 65ms/step - loss: 0.3970 - acc: 0.8330 - val_loss: 0.4174 - val_acc: 0.8170\n",
      "Epoch 22/30\n",
      "100/100 [==============================] - 6s 65ms/step - loss: 0.4105 - acc: 0.8185 - val_loss: 0.3718 - val_acc: 0.8460\n",
      "Epoch 23/30\n",
      "100/100 [==============================] - 6s 65ms/step - loss: 0.4114 - acc: 0.8190 - val_loss: 0.4064 - val_acc: 0.8220\n",
      "Epoch 24/30\n",
      "100/100 [==============================] - 6s 65ms/step - loss: 0.3895 - acc: 0.8280 - val_loss: 0.7899 - val_acc: 0.6530\n",
      "Epoch 25/30\n",
      "100/100 [==============================] - 6s 64ms/step - loss: 0.3777 - acc: 0.8375 - val_loss: 0.3713 - val_acc: 0.8360\n",
      "Epoch 26/30\n",
      "100/100 [==============================] - 7s 65ms/step - loss: 0.3836 - acc: 0.8320 - val_loss: 0.3998 - val_acc: 0.8060\n",
      "Epoch 27/30\n",
      "100/100 [==============================] - 6s 65ms/step - loss: 0.3436 - acc: 0.8415 - val_loss: 0.4020 - val_acc: 0.8180\n",
      "Epoch 28/30\n",
      "100/100 [==============================] - 6s 65ms/step - loss: 0.3969 - acc: 0.8220 - val_loss: 0.3766 - val_acc: 0.8400\n",
      "Epoch 29/30\n",
      "100/100 [==============================] - 6s 64ms/step - loss: 0.3643 - acc: 0.8495 - val_loss: 0.5260 - val_acc: 0.7890\n",
      "Epoch 30/30\n",
      "100/100 [==============================] - 7s 66ms/step - loss: 0.3744 - acc: 0.8390 - val_loss: 0.4982 - val_acc: 0.7590\n"
     ]
    }
   ],
   "source": [
    "history = model.fit_generator(train_generator,\n",
    "                             steps_per_epoch = 100,\n",
    "                             epochs = 30,\n",
    "                             validation_data = validation_generator,\n",
    "                             validation_steps = 50)"
   ]
  },
  {
   "cell_type": "code",
   "execution_count": 57,
   "metadata": {},
   "outputs": [],
   "source": [
    "model.save('cats_and_dogs.h5')"
   ]
  },
  {
   "cell_type": "code",
   "execution_count": 58,
   "metadata": {},
   "outputs": [],
   "source": [
    "import matplotlib.pyplot as plt"
   ]
  },
  {
   "cell_type": "code",
   "execution_count": 59,
   "metadata": {},
   "outputs": [],
   "source": [
    "acc = history.history['acc']"
   ]
  },
  {
   "cell_type": "code",
   "execution_count": 60,
   "metadata": {},
   "outputs": [],
   "source": [
    "val_acc = history.history['val_acc']"
   ]
  },
  {
   "cell_type": "code",
   "execution_count": 61,
   "metadata": {},
   "outputs": [],
   "source": [
    "loss = history.history['loss']"
   ]
  },
  {
   "cell_type": "code",
   "execution_count": 62,
   "metadata": {},
   "outputs": [],
   "source": [
    "val_loss = history.history['val_loss']"
   ]
  },
  {
   "cell_type": "code",
   "execution_count": 66,
   "metadata": {},
   "outputs": [
    {
     "data": {
      "text/plain": [
       "<matplotlib.figure.Figure at 0x7f6f1404ce48>"
      ]
     },
     "execution_count": 66,
     "metadata": {},
     "output_type": "execute_result"
    },
    {
     "data": {
      "image/png": "[encoded data removed]",
      "text/plain": [
       "<matplotlib.figure.Figure at 0x7f6f14134d30>"
      ]
     },
     "metadata": {},
     "output_type": "display_data"
    },
    {
     "data": {
      "text/plain": [
       "<matplotlib.figure.Figure at 0x7f6f1404ce48>"
      ]
     },
     "metadata": {},
     "output_type": "display_data"
    }
   ],
   "source": [
    "epochs = range(1,len(acc) + 1)\n",
    "plt.plot(epochs,acc,'bo',label= 'Training acc')\n",
    "plt.plot(epochs,val_acc,'b',label = 'Validation acc')\n",
    "plt.title('Training and validation accuracy')\n",
    "plt.legend()\n",
    "plt.figure()"
   ]
  },
  {
   "cell_type": "code",
   "execution_count": 65,
   "metadata": {},
   "outputs": [
    {
     "data": {
      "text/plain": [
       "<matplotlib.figure.Figure at 0x7f6f1408fcc0>"
      ]
     },
     "execution_count": 65,
     "metadata": {},
     "output_type": "execute_result"
    },
    {
     "data": {
      "text/plain": [
       "<matplotlib.figure.Figure at 0x7f6f1408fcc0>"
      ]
     },
     "metadata": {},
     "output_type": "display_data"
    }
   ],
   "source": [
    "plt.plot(epochs,loss,'bo',label = 'Training loss')\n",
    "plt.plot(epochs,val_loss,'b',label = 'Validation loss')\n",
    "plt.title('Training a')"
   ]
  },
  {
   "cell_type": "code",
   "execution_count": null,
   "metadata": {},
   "outputs": [],
   "source": []
  }
 ],
 "metadata": {
  "kernelspec": {
   "display_name": "Python 3",
   "language": "python",
   "name": "python3"
  },
  "language_info": {
   "codemirror_mode": {
    "name": "ipython",
    "version": 3
   },
   "file_extension": ".py",
   "mimetype": "text/x-python",
   "name": "python",
   "nbconvert_exporter": "python",
   "pygments_lexer": "ipython3",
   "version": "3.5.4"
  }
 },
 "nbformat": 4,
 "nbformat_minor": 2
}
