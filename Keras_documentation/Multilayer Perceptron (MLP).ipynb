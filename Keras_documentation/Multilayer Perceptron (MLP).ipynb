{
 "cells": [
  {
   "cell_type": "code",
   "execution_count": 1,
   "metadata": {},
   "outputs": [
    {
     "name": "stderr",
     "output_type": "stream",
     "text": [
      "Using TensorFlow backend.\n"
     ]
    }
   ],
   "source": [
    "import keras\n",
    "from keras.models import Sequential\n",
    "from keras.layers import Dense ,Dropout,Activation\n",
    "from keras.optimizers import SGD"
   ]
  },
  {
   "cell_type": "code",
   "execution_count": 2,
   "metadata": {},
   "outputs": [],
   "source": [
    "#Generate dummy data\n",
    "import numpy as np"
   ]
  },
  {
   "cell_type": "code",
   "execution_count": 3,
   "metadata": {},
   "outputs": [],
   "source": [
    "x_train = np.random.random((1000,20))\n",
    "y_train = keras.utils.to_categorical(np.random.randint(10,size = (1000,1)),num_classes = 10)"
   ]
  },
  {
   "cell_type": "code",
   "execution_count": 4,
   "metadata": {},
   "outputs": [],
   "source": [
    "x_test = np.random.random((100,20))\n",
    "y_test = keras.utils.to_categorical(np.random.randint(10,size = (100,1)),num_classes = 10)"
   ]
  },
  {
   "cell_type": "code",
   "execution_count": 5,
   "metadata": {},
   "outputs": [],
   "source": [
    "model = Sequential()"
   ]
  },
  {
   "cell_type": "markdown",
   "metadata": {},
   "source": [
    "### MLP for Multi-class softmax"
   ]
  },
  {
   "cell_type": "code",
   "execution_count": 6,
   "metadata": {},
   "outputs": [],
   "source": [
    "#Dense(64) is a fully-connected layer with 64 hidden unit\n",
    "#In the first layer you must specify the input data shape\n",
    "model.add(Dense(64,activation = 'relu',input_dim = 20))\n",
    "model.add(Dropout(0.5))\n",
    "model.add(Dense(64,activation = 'relu'))\n",
    "model.add(Dropout(0.5))\n",
    "model.add(Dense(10,activation = 'softmax'))\n"
   ]
  },
  {
   "cell_type": "code",
   "execution_count": 7,
   "metadata": {},
   "outputs": [
    {
     "name": "stdout",
     "output_type": "stream",
     "text": [
      "Epoch 1/20\n",
      "1000/1000 [==============================] - 2s 2ms/step - loss: 2.4176 - acc: 0.0890\n",
      "Epoch 2/20\n",
      "1000/1000 [==============================] - 0s 91us/step - loss: 2.3442 - acc: 0.0970\n",
      "Epoch 3/20\n",
      "1000/1000 [==============================] - 0s 100us/step - loss: 2.3279 - acc: 0.0930\n",
      "Epoch 4/20\n",
      "1000/1000 [==============================] - 0s 121us/step - loss: 2.3175 - acc: 0.0980\n",
      "Epoch 5/20\n",
      "1000/1000 [==============================] - 0s 123us/step - loss: 2.3055 - acc: 0.1240\n",
      "Epoch 6/20\n",
      "1000/1000 [==============================] - 0s 131us/step - loss: 2.3107 - acc: 0.1230\n",
      "Epoch 7/20\n",
      "1000/1000 [==============================] - 0s 119us/step - loss: 2.3080 - acc: 0.1050\n",
      "Epoch 8/20\n",
      "1000/1000 [==============================] - 0s 94us/step - loss: 2.3026 - acc: 0.1030\n",
      "Epoch 9/20\n",
      "1000/1000 [==============================] - 0s 101us/step - loss: 2.3089 - acc: 0.0990\n",
      "Epoch 10/20\n",
      "1000/1000 [==============================] - 0s 98us/step - loss: 2.2979 - acc: 0.1040\n",
      "Epoch 11/20\n",
      "1000/1000 [==============================] - 0s 90us/step - loss: 2.2962 - acc: 0.1180\n",
      "Epoch 12/20\n",
      "1000/1000 [==============================] - 0s 91us/step - loss: 2.2995 - acc: 0.1230\n",
      "Epoch 13/20\n",
      "1000/1000 [==============================] - 0s 113us/step - loss: 2.3026 - acc: 0.1180\n",
      "Epoch 14/20\n",
      "1000/1000 [==============================] - 0s 122us/step - loss: 2.3013 - acc: 0.1100\n",
      "Epoch 15/20\n",
      "1000/1000 [==============================] - 0s 116us/step - loss: 2.2953 - acc: 0.1110\n",
      "Epoch 16/20\n",
      "1000/1000 [==============================] - 0s 109us/step - loss: 2.2980 - acc: 0.1100\n",
      "Epoch 17/20\n",
      "1000/1000 [==============================] - 0s 281us/step - loss: 2.2954 - acc: 0.1090\n",
      "Epoch 18/20\n",
      "1000/1000 [==============================] - 0s 79us/step - loss: 2.2980 - acc: 0.1160\n",
      "Epoch 19/20\n",
      "1000/1000 [==============================] - 0s 93us/step - loss: 2.2973 - acc: 0.1130\n",
      "Epoch 20/20\n",
      "1000/1000 [==============================] - 0s 105us/step - loss: 2.2952 - acc: 0.1300\n"
     ]
    },
    {
     "data": {
      "text/plain": [
       "<keras.callbacks.History at 0x7f85bdeb0c18>"
      ]
     },
     "execution_count": 7,
     "metadata": {},
     "output_type": "execute_result"
    }
   ],
   "source": [
    "sgd = SGD(lr = 0.01,momentum = 0.9,nesterov = True)\n",
    "model.compile(optimizer = sgd,\n",
    "             loss = 'categorical_crossentropy',\n",
    "             metrics = ['accuracy'])\n",
    "model.fit(x_train,y_train,\n",
    "         epochs = 20,\n",
    "         batch_size = 128)\n"
   ]
  },
  {
   "cell_type": "code",
   "execution_count": 8,
   "metadata": {},
   "outputs": [
    {
     "name": "stdout",
     "output_type": "stream",
     "text": [
      "\r",
      "100/100 [==============================] - 0s 2ms/step\n"
     ]
    },
    {
     "data": {
      "text/plain": [
       "[2.3195834159851074, 0.12999999523162842]"
      ]
     },
     "execution_count": 8,
     "metadata": {},
     "output_type": "execute_result"
    }
   ],
   "source": [
    "model.evaluate(x_test,y_test,batch_size = 128)"
   ]
  },
  {
   "cell_type": "markdown",
   "metadata": {},
   "source": [
    "### MLP for  Binary classification"
   ]
  },
  {
   "cell_type": "code",
   "execution_count": 29,
   "metadata": {},
   "outputs": [],
   "source": [
    "#Generate dummy data\n",
    "x_train = np.random.random((1000,20))\n",
    "y_train = np.random.randint(2,size = (1000,1))\n",
    "x_test = np.random.random((100,20))\n",
    "y_test = np.random.randint(2,size = (100,1))"
   ]
  },
  {
   "cell_type": "code",
   "execution_count": 30,
   "metadata": {},
   "outputs": [],
   "source": [
    "model = Sequential()"
   ]
  },
  {
   "cell_type": "code",
   "execution_count": 31,
   "metadata": {},
   "outputs": [],
   "source": [
    "model.add(Dense(64,input_dim = 20,activation = 'relu'))\n",
    "model.add(Dropout(0.5))\n",
    "model.add(Dense(64,activation = 'relu'))\n",
    "model.add(Dropout(0.5))\n",
    "model.add(Dense(1,activation = 'sigmoid'))\n"
   ]
  },
  {
   "cell_type": "code",
   "execution_count": 32,
   "metadata": {},
   "outputs": [],
   "source": [
    "model.compile(optimizer = 'rmsprop',\n",
    "             loss = 'binary_crossentropy',\n",
    "             metrics = ['accuracy'])\n"
   ]
  },
  {
   "cell_type": "code",
   "execution_count": 33,
   "metadata": {},
   "outputs": [
    {
     "name": "stdout",
     "output_type": "stream",
     "text": [
      "Epoch 1/20\n",
      "1000/1000 [==============================] - 1s 590us/step - loss: 0.7240 - acc: 0.4800\n",
      "Epoch 2/20\n",
      "1000/1000 [==============================] - 0s 85us/step - loss: 0.7123 - acc: 0.4800\n",
      "Epoch 3/20\n",
      "1000/1000 [==============================] - 0s 97us/step - loss: 0.7011 - acc: 0.5160\n",
      "Epoch 4/20\n",
      "1000/1000 [==============================] - 0s 71us/step - loss: 0.7018 - acc: 0.5160\n",
      "Epoch 5/20\n",
      "1000/1000 [==============================] - 0s 65us/step - loss: 0.7011 - acc: 0.4850\n",
      "Epoch 6/20\n",
      "1000/1000 [==============================] - 0s 86us/step - loss: 0.6970 - acc: 0.5140\n",
      "Epoch 7/20\n",
      "1000/1000 [==============================] - 0s 265us/step - loss: 0.6930 - acc: 0.5240\n",
      "Epoch 8/20\n",
      "1000/1000 [==============================] - 0s 95us/step - loss: 0.6993 - acc: 0.5140\n",
      "Epoch 9/20\n",
      "1000/1000 [==============================] - 0s 94us/step - loss: 0.6969 - acc: 0.4930\n",
      "Epoch 10/20\n",
      "1000/1000 [==============================] - 0s 122us/step - loss: 0.6983 - acc: 0.5120\n",
      "Epoch 11/20\n",
      "1000/1000 [==============================] - 0s 123us/step - loss: 0.7006 - acc: 0.4970\n",
      "Epoch 12/20\n",
      "1000/1000 [==============================] - 0s 108us/step - loss: 0.6895 - acc: 0.5150\n",
      "Epoch 13/20\n",
      "1000/1000 [==============================] - 0s 93us/step - loss: 0.6859 - acc: 0.5430\n",
      "Epoch 14/20\n",
      "1000/1000 [==============================] - 0s 86us/step - loss: 0.6897 - acc: 0.5180\n",
      "Epoch 15/20\n",
      "1000/1000 [==============================] - 0s 97us/step - loss: 0.7013 - acc: 0.4930\n",
      "Epoch 16/20\n",
      "1000/1000 [==============================] - 0s 105us/step - loss: 0.6899 - acc: 0.5350\n",
      "Epoch 17/20\n",
      "1000/1000 [==============================] - 0s 66us/step - loss: 0.6937 - acc: 0.5120\n",
      "Epoch 18/20\n",
      "1000/1000 [==============================] - 0s 72us/step - loss: 0.6902 - acc: 0.5350\n",
      "Epoch 19/20\n",
      "1000/1000 [==============================] - 0s 90us/step - loss: 0.6910 - acc: 0.5350\n",
      "Epoch 20/20\n",
      "1000/1000 [==============================] - 0s 79us/step - loss: 0.6916 - acc: 0.5440\n"
     ]
    },
    {
     "data": {
      "text/plain": [
       "<keras.callbacks.History at 0x7f855e39cda0>"
      ]
     },
     "execution_count": 33,
     "metadata": {},
     "output_type": "execute_result"
    }
   ],
   "source": [
    "model.fit(x_train,y_train,\n",
    "         epochs = 20,\n",
    "         batch_size = 128)"
   ]
  },
  {
   "cell_type": "code",
   "execution_count": 35,
   "metadata": {},
   "outputs": [
    {
     "name": "stdout",
     "output_type": "stream",
     "text": [
      "\r",
      "100/100 [==============================] - 0s 1ms/step\n"
     ]
    },
    {
     "data": {
      "text/plain": [
       "[0.68829596042633057, 0.55000001192092896]"
      ]
     },
     "execution_count": 35,
     "metadata": {},
     "output_type": "execute_result"
    }
   ],
   "source": [
    "model.evaluate(x_test,y_test,\n",
    "          batch_size = 128)"
   ]
  },
  {
   "cell_type": "code",
   "execution_count": null,
   "metadata": {},
   "outputs": [],
   "source": []
  }
 ],
 "metadata": {
  "kernelspec": {
   "display_name": "Python 3",
   "language": "python",
   "name": "python3"
  },
  "language_info": {
   "codemirror_mode": {
    "name": "ipython",
    "version": 3
   },
   "file_extension": ".py",
   "mimetype": "text/x-python",
   "name": "python",
   "nbconvert_exporter": "python",
   "pygments_lexer": "ipython3",
   "version": "3.5.4"
  }
 },
 "nbformat": 4,
 "nbformat_minor": 2
}
