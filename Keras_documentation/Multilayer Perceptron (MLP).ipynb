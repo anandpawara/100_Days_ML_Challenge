{
 "cells": [
  {
   "cell_type": "code",
   "execution_count": 2,
   "metadata": {},
   "outputs": [],
   "source": [
    "import keras\n",
    "from keras.models import Sequential\n",
    "from keras.layers import Dense ,Dropout,Activation\n",
    "from keras.optimizers import SGD"
   ]
  },
  {
   "cell_type": "code",
   "execution_count": 3,
   "metadata": {},
   "outputs": [],
   "source": [
    "#Generate dummy data\n",
    "import numpy as np"
   ]
  },
  {
   "cell_type": "code",
   "execution_count": 5,
   "metadata": {},
   "outputs": [],
   "source": [
    "x_train = np.random.random((1000,20))\n",
    "y_train = keras.utils.to_categorical(np.random.randint(10,size = (1000,1)),num_classes = 10)"
   ]
  },
  {
   "cell_type": "code",
   "execution_count": 8,
   "metadata": {},
   "outputs": [],
   "source": [
    "x_test = np.random.random((100,20))\n",
    "y_test = keras.utils.to_categorical(np.random.randint(10,size = (100,1)),num_classes = 10)"
   ]
  },
  {
   "cell_type": "code",
   "execution_count": 9,
   "metadata": {},
   "outputs": [],
   "source": [
    "model = Sequential()"
   ]
  },
  {
   "cell_type": "markdown",
   "metadata": {},
   "source": [
    "### MLP for Multi-class softmax"
   ]
  },
  {
   "cell_type": "code",
   "execution_count": 11,
   "metadata": {},
   "outputs": [],
   "source": [
    "#Dense(64) is a fully-connected layer with 64 hidden unit\n",
    "#In the first layer you must specify the input data shape\n",
    "model.add(Dense(64,activation = 'relu',input_dim = 20))\n",
    "model.add(Dropout(0.5))\n",
    "model.add(Dense(64,activation = 'relu'))\n",
    "model.add(Dropout(0.5))\n",
    "model.add(Dense(10,activation = 'softmax'))\n"
   ]
  },
  {
   "cell_type": "code",
   "execution_count": 12,
   "metadata": {},
   "outputs": [
    {
     "name": "stdout",
     "output_type": "stream",
     "text": [
      "Epoch 1/20\n",
      "1000/1000 [==============================] - 1s 540us/step - loss: 2.4048 - acc: 0.0930\n",
      "Epoch 2/20\n",
      "1000/1000 [==============================] - 0s 92us/step - loss: 2.3647 - acc: 0.1080\n",
      "Epoch 3/20\n",
      "1000/1000 [==============================] - 0s 93us/step - loss: 2.3561 - acc: 0.0900\n",
      "Epoch 4/20\n",
      "1000/1000 [==============================] - 0s 62us/step - loss: 2.3176 - acc: 0.1100\n",
      "Epoch 5/20\n",
      "1000/1000 [==============================] - 0s 97us/step - loss: 2.3136 - acc: 0.1120\n",
      "Epoch 6/20\n",
      "1000/1000 [==============================] - 0s 109us/step - loss: 2.3014 - acc: 0.1200\n",
      "Epoch 7/20\n",
      "1000/1000 [==============================] - 0s 91us/step - loss: 2.3121 - acc: 0.0950\n",
      "Epoch 8/20\n",
      "1000/1000 [==============================] - 0s 102us/step - loss: 2.3122 - acc: 0.1060\n",
      "Epoch 9/20\n",
      "1000/1000 [==============================] - 0s 295us/step - loss: 2.3089 - acc: 0.1040\n",
      "Epoch 10/20\n",
      "1000/1000 [==============================] - 0s 115us/step - loss: 2.3016 - acc: 0.1230\n",
      "Epoch 11/20\n",
      "1000/1000 [==============================] - 0s 97us/step - loss: 2.3081 - acc: 0.1200\n",
      "Epoch 12/20\n",
      "1000/1000 [==============================] - 0s 83us/step - loss: 2.3082 - acc: 0.1050\n",
      "Epoch 13/20\n",
      "1000/1000 [==============================] - 0s 119us/step - loss: 2.3125 - acc: 0.1040\n",
      "Epoch 14/20\n",
      "1000/1000 [==============================] - 0s 110us/step - loss: 2.2975 - acc: 0.1350\n",
      "Epoch 15/20\n",
      "1000/1000 [==============================] - 0s 107us/step - loss: 2.3049 - acc: 0.1190\n",
      "Epoch 16/20\n",
      "1000/1000 [==============================] - 0s 117us/step - loss: 2.3048 - acc: 0.1110\n",
      "Epoch 17/20\n",
      "1000/1000 [==============================] - 0s 84us/step - loss: 2.3076 - acc: 0.1130\n",
      "Epoch 18/20\n",
      "1000/1000 [==============================] - 0s 125us/step - loss: 2.3017 - acc: 0.1160\n",
      "Epoch 19/20\n",
      "1000/1000 [==============================] - 0s 102us/step - loss: 2.3047 - acc: 0.1100\n",
      "Epoch 20/20\n",
      "1000/1000 [==============================] - 0s 89us/step - loss: 2.2955 - acc: 0.1280\n"
     ]
    },
    {
     "data": {
      "text/plain": [
       "<keras.callbacks.History at 0x7fe1d2f04860>"
      ]
     },
     "execution_count": 12,
     "metadata": {},
     "output_type": "execute_result"
    }
   ],
   "source": [
    "sgd = SGD(lr = 0.01,momentum = 0.9,nesterov = True)\n",
    "model.compile(optimizer = sgd,\n",
    "             loss = 'categorical_crossentropy',\n",
    "             metrics = ['accuracy'])\n",
    "model.fit(x_train,y_train,\n",
    "         epochs = 20,\n",
    "         batch_size = 128)\n"
   ]
  },
  {
   "cell_type": "code",
   "execution_count": 13,
   "metadata": {},
   "outputs": [
    {
     "name": "stdout",
     "output_type": "stream",
     "text": [
      "\r",
      "100/100 [==============================] - 0s 1ms/step\n"
     ]
    },
    {
     "data": {
      "text/plain": [
       "[2.3018615245819092, 0.10999999940395355]"
      ]
     },
     "execution_count": 13,
     "metadata": {},
     "output_type": "execute_result"
    }
   ],
   "source": [
    "model.evaluate(x_test,y_test,batch_size = 128)"
   ]
  },
  {
   "cell_type": "markdown",
   "metadata": {},
   "source": [
    "### MLP for  Binary classification"
   ]
  },
  {
   "cell_type": "code",
   "execution_count": 14,
   "metadata": {},
   "outputs": [],
   "source": [
    "model = Sequential()"
   ]
  },
  {
   "cell_type": "code",
   "execution_count": null,
   "metadata": {},
   "outputs": [],
   "source": []
  }
 ],
 "metadata": {
  "kernelspec": {
   "display_name": "Python 3",
   "language": "python",
   "name": "python3"
  },
  "language_info": {
   "codemirror_mode": {
    "name": "ipython",
    "version": 3
   },
   "file_extension": ".py",
   "mimetype": "text/x-python",
   "name": "python",
   "nbconvert_exporter": "python",
   "pygments_lexer": "ipython3",
   "version": "3.5.4"
  }
 },
 "nbformat": 4,
 "nbformat_minor": 2
}
