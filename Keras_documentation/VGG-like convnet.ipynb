{
 "cells": [
  {
   "cell_type": "code",
   "execution_count": 1,
   "metadata": {},
   "outputs": [
    {
     "name": "stderr",
     "output_type": "stream",
     "text": [
      "/home/paperspace/anaconda3/envs/py35/lib/python3.5/site-packages/h5py/__init__.py:36: FutureWarning: Conversion of the second argument of issubdtype from `float` to `np.floating` is deprecated. In future, it will be treated as `np.float64 == np.dtype(float).type`.\n",
      "  from ._conv import register_converters as _register_converters\n",
      "Using TensorFlow backend.\n"
     ]
    }
   ],
   "source": [
    "import numpy as np\n",
    "import keras\n",
    "from keras.models import Sequential\n",
    "from keras.layers import Dense,Dropout,Flatten\n",
    "from keras.layers import Conv2D,MaxPooling2D\n",
    "from keras.optimizers import SGD\n"
   ]
  },
  {
   "cell_type": "code",
   "execution_count": 9,
   "metadata": {},
   "outputs": [],
   "source": [
    "#Generate dummy data\n",
    "x_train = np.random.random((100,100,100,3))\n",
    "y_train = keras.utils.to_categorical(np.random.randint(10,size = (100,1)),num_classes = 10)\n",
    "x_test = np.random.random((20,100,100,3))\n",
    "y_test = keras.utils.to_categorical(np.random.randint(10,size = (20,1)),num_classes = 10)\n"
   ]
  },
  {
   "cell_type": "code",
   "execution_count": 10,
   "metadata": {},
   "outputs": [],
   "source": [
    "model = Sequential()\n",
    "model.add(Conv2D(32,(3,3),activation = 'relu',input_shape = (100,100,3)))\n",
    "model.add(Conv2D(32,(3,3),activation = 'relu'))\n",
    "model.add(MaxPooling2D(pool_size=(2,2)))\n",
    "model.add(Dropout(0.5))\n"
   ]
  },
  {
   "cell_type": "code",
   "execution_count": 11,
   "metadata": {},
   "outputs": [],
   "source": [
    "model.add(Flatten())\n",
    "model.add(Dense(256,activation = 'relu'))\n",
    "model.add(Dropout(0.5))\n",
    "model.add(Dense(10,activation = 'softmax'))"
   ]
  },
  {
   "cell_type": "code",
   "execution_count": 12,
   "metadata": {},
   "outputs": [],
   "source": [
    "sgd = SGD(lr = 0.01,\n",
    "          decay = 1e-6,\n",
    "          momentum = 0.9, \n",
    "          nesterov=True)"
   ]
  },
  {
   "cell_type": "code",
   "execution_count": 13,
   "metadata": {},
   "outputs": [],
   "source": [
    "model.compile(loss = 'categorical_crossentropy',\n",
    "             optimizer = sgd,\n",
    "             metrics = ['accuracy'])"
   ]
  },
  {
   "cell_type": "code",
   "execution_count": 14,
   "metadata": {},
   "outputs": [
    {
     "name": "stdout",
     "output_type": "stream",
     "text": [
      "Epoch 1/10\n",
      "100/100 [==============================] - 0s 4ms/step - loss: 2.8518 - acc: 0.1100\n",
      "Epoch 2/10\n",
      "100/100 [==============================] - 0s 1ms/step - loss: 2.3470 - acc: 0.0800\n",
      "Epoch 3/10\n",
      "100/100 [==============================] - 0s 1ms/step - loss: 2.2729 - acc: 0.2000\n",
      "Epoch 4/10\n",
      "100/100 [==============================] - 0s 1ms/step - loss: 2.3846 - acc: 0.1500\n",
      "Epoch 5/10\n",
      "100/100 [==============================] - 0s 1ms/step - loss: 2.2893 - acc: 0.1900\n",
      "Epoch 6/10\n",
      "100/100 [==============================] - 0s 997us/step - loss: 2.2712 - acc: 0.1500\n",
      "Epoch 7/10\n",
      "100/100 [==============================] - 0s 988us/step - loss: 2.3417 - acc: 0.1500\n",
      "Epoch 8/10\n",
      "100/100 [==============================] - 0s 981us/step - loss: 2.2425 - acc: 0.1800\n",
      "Epoch 9/10\n",
      "100/100 [==============================] - 0s 981us/step - loss: 2.2374 - acc: 0.2000\n",
      "Epoch 10/10\n",
      "100/100 [==============================] - 0s 990us/step - loss: 2.2444 - acc: 0.1400\n"
     ]
    },
    {
     "data": {
      "text/plain": [
       "<keras.callbacks.History at 0x7f379c2b1f28>"
      ]
     },
     "execution_count": 14,
     "metadata": {},
     "output_type": "execute_result"
    }
   ],
   "source": [
    "model.fit(x_train,y_train,\n",
    "         batch_size = 32,\n",
    "         epochs = 10)"
   ]
  },
  {
   "cell_type": "code",
   "execution_count": 16,
   "metadata": {},
   "outputs": [
    {
     "name": "stdout",
     "output_type": "stream",
     "text": [
      "20/20 [==============================] - 0s 3ms/step\n"
     ]
    }
   ],
   "source": [
    "score = model.evaluate(x_test,y_test,\n",
    "                      batch_size = 16)"
   ]
  },
  {
   "cell_type": "code",
   "execution_count": null,
   "metadata": {},
   "outputs": [],
   "source": []
  }
 ],
 "metadata": {
  "kernelspec": {
   "display_name": "Python 3",
   "language": "python",
   "name": "python3"
  },
  "language_info": {
   "codemirror_mode": {
    "name": "ipython",
    "version": 3
   },
   "file_extension": ".py",
   "mimetype": "text/x-python",
   "name": "python",
   "nbconvert_exporter": "python",
   "pygments_lexer": "ipython3",
   "version": "3.5.4"
  }
 },
 "nbformat": 4,
 "nbformat_minor": 2
}
