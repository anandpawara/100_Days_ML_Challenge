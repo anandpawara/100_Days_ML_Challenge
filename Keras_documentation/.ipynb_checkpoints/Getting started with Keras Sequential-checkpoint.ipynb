{
 "cells": [
  {
   "cell_type": "code",
   "execution_count": 1,
   "metadata": {},
   "outputs": [
    {
     "name": "stderr",
     "output_type": "stream",
     "text": [
      "Using TensorFlow backend.\n"
     ]
    }
   ],
   "source": [
    "from keras.models import Sequential\n",
    "from keras.layers import Dense,Activation\n"
   ]
  },
  {
   "cell_type": "code",
   "execution_count": 7,
   "metadata": {},
   "outputs": [],
   "source": [
    "import keras.backend as K\n",
    "def mean_pred(y_true,y_pred):\n",
    "    return K.mean(y_pred)\n",
    "\n",
    "model.compile(optimizer = 'rmsprop',\n",
    "             loss = 'categorical_crossentropy',\n",
    "             metrics = ['accuracy',mean_pred])"
   ]
  },
  {
   "cell_type": "code",
   "execution_count": 8,
   "metadata": {},
   "outputs": [],
   "source": [
    "#for a single-input model with 2 classes (binary classification)\n",
    "model = Sequential()\n",
    "model.add(Dense(32,activation = 'relu',input_dim = 100))\n",
    "model.add(Dense(1,activation = 'sigmoid'))\n",
    "model.compile(optimizer = 'rmsprop',\n",
    "             loss = 'binary_crossentropy',\n",
    "             metrics =['accuracy'])\n"
   ]
  },
  {
   "cell_type": "code",
   "execution_count": 9,
   "metadata": {},
   "outputs": [],
   "source": [
    "#Generating dummy data\n",
    "import numpy as np\n",
    "data = np.random.random((1000,100))\n",
    "labels = np.random.randint(2,size =(1000,1))"
   ]
  },
  {
   "cell_type": "code",
   "execution_count": 10,
   "metadata": {},
   "outputs": [
    {
     "name": "stdout",
     "output_type": "stream",
     "text": [
      "Epoch 1/10\n",
      "1000/1000 [==============================] - 2s 2ms/step - loss: 0.7130 - acc: 0.4960\n",
      "Epoch 2/10\n",
      "1000/1000 [==============================] - 0s 272us/step - loss: 0.6988 - acc: 0.5080\n",
      "Epoch 3/10\n",
      "1000/1000 [==============================] - 0s 390us/step - loss: 0.6912 - acc: 0.5340\n",
      "Epoch 4/10\n",
      "1000/1000 [==============================] - 0s 495us/step - loss: 0.6851 - acc: 0.5490 0s - loss: 0.6888 - acc: \n",
      "Epoch 5/10\n",
      "1000/1000 [==============================] - 0s 388us/step - loss: 0.6802 - acc: 0.5540\n",
      "Epoch 6/10\n",
      "1000/1000 [==============================] - 0s 334us/step - loss: 0.6717 - acc: 0.6100\n",
      "Epoch 7/10\n",
      "1000/1000 [==============================] - 0s 401us/step - loss: 0.6700 - acc: 0.5840\n",
      "Epoch 8/10\n",
      "1000/1000 [==============================] - 0s 438us/step - loss: 0.6690 - acc: 0.5940\n",
      "Epoch 9/10\n",
      "1000/1000 [==============================] - 1s 564us/step - loss: 0.6621 - acc: 0.6150\n",
      "Epoch 10/10\n",
      "1000/1000 [==============================] - 0s 460us/step - loss: 0.6611 - acc: 0.6090\n"
     ]
    },
    {
     "data": {
      "text/plain": [
       "<keras.callbacks.History at 0x7f9ba1869fd0>"
      ]
     },
     "execution_count": 10,
     "metadata": {},
     "output_type": "execute_result"
    }
   ],
   "source": [
    "#Train the model,iterating on the data in batches of 32 data samples\n",
    "model.fit(data,labels,epochs = 10,batch_size = 32)"
   ]
  },
  {
   "cell_type": "code",
   "execution_count": 12,
   "metadata": {},
   "outputs": [],
   "source": [
    "#For a single-input model with 10 classes (categorical classification)\n",
    "model = Sequential()\n",
    "model.add(Dense(32,activation = 'relu',input_dim = 100))\n",
    "model.add(Dense(10,activation = 'softmax'))\n",
    "model.compile(optimizer = 'rmsprop',\n",
    "             loss = 'categorical_crossentropy',\n",
    "             metrics = ['accuracy'])\n"
   ]
  },
  {
   "cell_type": "code",
   "execution_count": 14,
   "metadata": {},
   "outputs": [],
   "source": [
    "#Generate dummy data\n",
    "import numpy as np\n",
    "data = np.random.random((1000,100))\n",
    "labels = np.random.randint(10,size = (1000,1))"
   ]
  },
  {
   "cell_type": "code",
   "execution_count": 17,
   "metadata": {},
   "outputs": [
    {
     "name": "stdout",
     "output_type": "stream",
     "text": [
      "Epoch 1/10\n",
      "1000/1000 [==============================] - 1s 588us/step - loss: 2.3718 - acc: 0.0980\n",
      "Epoch 2/10\n",
      "1000/1000 [==============================] - 0s 207us/step - loss: 2.3157 - acc: 0.1260\n",
      "Epoch 3/10\n",
      "1000/1000 [==============================] - 0s 206us/step - loss: 2.3002 - acc: 0.1170 0s - loss: 2.2974 - acc: 0.117\n",
      "Epoch 4/10\n",
      "1000/1000 [==============================] - 0s 235us/step - loss: 2.2906 - acc: 0.1310\n",
      "Epoch 5/10\n",
      "1000/1000 [==============================] - 0s 297us/step - loss: 2.2808 - acc: 0.1470\n",
      "Epoch 6/10\n",
      "1000/1000 [==============================] - 1s 569us/step - loss: 2.2707 - acc: 0.1440\n",
      "Epoch 7/10\n",
      "1000/1000 [==============================] - 0s 347us/step - loss: 2.2623 - acc: 0.1470\n",
      "Epoch 8/10\n",
      "1000/1000 [==============================] - 0s 415us/step - loss: 2.2522 - acc: 0.1610\n",
      "Epoch 9/10\n",
      "1000/1000 [==============================] - 0s 388us/step - loss: 2.2417 - acc: 0.1720\n",
      "Epoch 10/10\n",
      "1000/1000 [==============================] - 0s 362us/step - loss: 2.2326 - acc: 0.1760\n"
     ]
    },
    {
     "data": {
      "text/plain": [
       "<keras.callbacks.History at 0x7f9b7c06a828>"
      ]
     },
     "execution_count": 17,
     "metadata": {},
     "output_type": "execute_result"
    }
   ],
   "source": [
    "import keras\n",
    "#Convert labels to categorical one-hot encoding\n",
    "one_hot_labels = keras.utils.to_categorical(labels,num_classes = 10)\n",
    "#Train the model ,iterating on the data in batches of 32 samples\n",
    "model.fit(data,one_hot_labels,batch_size = 32,epochs = 10)"
   ]
  },
  {
   "cell_type": "code",
   "execution_count": null,
   "metadata": {},
   "outputs": [],
   "source": []
  }
 ],
 "metadata": {
  "kernelspec": {
   "display_name": "Python 3",
   "language": "python",
   "name": "python3"
  },
  "language_info": {
   "codemirror_mode": {
    "name": "ipython",
    "version": 3
   },
   "file_extension": ".py",
   "mimetype": "text/x-python",
   "name": "python",
   "nbconvert_exporter": "python",
   "pygments_lexer": "ipython3",
   "version": "3.5.4"
  }
 },
 "nbformat": 4,
 "nbformat_minor": 2
}
