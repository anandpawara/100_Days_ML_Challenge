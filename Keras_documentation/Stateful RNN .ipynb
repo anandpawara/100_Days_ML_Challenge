{
 "cells": [
  {
   "cell_type": "code",
   "execution_count": 2,
   "metadata": {},
   "outputs": [],
   "source": [
    "from keras.models import Sequential\n",
    "from keras.layers import LSTM,Dense\n",
    "import numpy as np"
   ]
  },
  {
   "cell_type": "code",
   "execution_count": 3,
   "metadata": {},
   "outputs": [],
   "source": [
    "data_dim = 16\n",
    "timesteps = 8\n",
    "num_classes = 10\n",
    "batch_size = 32"
   ]
  },
  {
   "cell_type": "code",
   "execution_count": 6,
   "metadata": {},
   "outputs": [],
   "source": [
    "#Exptected input batch shape:(batch_size,timesteps,data_dim)\n",
    "model = Sequential()\n",
    "model.add(LSTM(32,return_sequences = True,stateful = True,\n",
    "              batch_input_shape = (batch_size,timesteps,data_dim)))\n",
    "model.add(LSTM(32,return_sequences = True,stateful = True))\n",
    "model.add(LSTM(32,stateful = True))\n",
    "model.add(Dense(10,activation = 'softmax'))"
   ]
  },
  {
   "cell_type": "code",
   "execution_count": 7,
   "metadata": {},
   "outputs": [],
   "source": [
    "model.compile(optimizer = 'rmsprop',\n",
    "             loss = 'categorical_crossentropy',\n",
    "             metrics = ['accuracy'])"
   ]
  },
  {
   "cell_type": "code",
   "execution_count": 9,
   "metadata": {},
   "outputs": [],
   "source": [
    "#Generate dummy training data\n",
    "x_train = np.random.random((batch_size *10,timesteps,data_dim))\n",
    "y_train = np.random.random((batch_size * 10,num_classes))\n"
   ]
  },
  {
   "cell_type": "code",
   "execution_count": 10,
   "metadata": {},
   "outputs": [],
   "source": [
    "#Genereate dummy validate data\n",
    "x_val = np.random.random((batch_size * 3,timesteps, data_dim))\n",
    "y_val = np.random.random((batch_size * 3,num_classes))"
   ]
  },
  {
   "cell_type": "code",
   "execution_count": 11,
   "metadata": {},
   "outputs": [
    {
     "name": "stdout",
     "output_type": "stream",
     "text": [
      "Train on 320 samples, validate on 96 samples\n",
      "Epoch 1/5\n",
      "320/320 [==============================] - 3s 9ms/step - loss: 11.4482 - acc: 0.1062 - val_loss: 11.1331 - val_acc: 0.0729\n",
      "Epoch 2/5\n",
      "320/320 [==============================] - 0s 1ms/step - loss: 11.4439 - acc: 0.0875 - val_loss: 11.1323 - val_acc: 0.0938\n",
      "Epoch 3/5\n",
      "320/320 [==============================] - 0s 1ms/step - loss: 11.4429 - acc: 0.1031 - val_loss: 11.1324 - val_acc: 0.1042\n",
      "Epoch 4/5\n",
      "320/320 [==============================] - 0s 1ms/step - loss: 11.4421 - acc: 0.1062 - val_loss: 11.1326 - val_acc: 0.1042\n",
      "Epoch 5/5\n",
      "320/320 [==============================] - 0s 1ms/step - loss: 11.4413 - acc: 0.1156 - val_loss: 11.1329 - val_acc: 0.1042\n"
     ]
    },
    {
     "data": {
      "text/plain": [
       "<keras.callbacks.History at 0x7f9aa9180be0>"
      ]
     },
     "execution_count": 11,
     "metadata": {},
     "output_type": "execute_result"
    }
   ],
   "source": [
    "model.fit(x_train,y_train,\n",
    "         batch_size = batch_size,\n",
    "         epochs = 5,\n",
    "         shuffle = False,\n",
    "         validation_data = (x_val,y_val))"
   ]
  },
  {
   "cell_type": "code",
   "execution_count": null,
   "metadata": {},
   "outputs": [],
   "source": []
  }
 ],
 "metadata": {
  "kernelspec": {
   "display_name": "Python 3",
   "language": "python",
   "name": "python3"
  },
  "language_info": {
   "codemirror_mode": {
    "name": "ipython",
    "version": 3
   },
   "file_extension": ".py",
   "mimetype": "text/x-python",
   "name": "python",
   "nbconvert_exporter": "python",
   "pygments_lexer": "ipython3",
   "version": "3.5.4"
  }
 },
 "nbformat": 4,
 "nbformat_minor": 2
}
